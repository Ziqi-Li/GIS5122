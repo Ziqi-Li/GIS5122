{
 "cells": [
  {
   "cell_type": "markdown",
   "metadata": {},
   "source": [
    "### Multi-level models (Varying Intercept)\n",
    "***\n",
    "This is an example on how to fit an MLM model using python and `pymer4` package. Pymer4 is a python version of the famous `lme4` package in R, and its documentation is available at: https://eshinjolly.com/pymer4/\n"
   ]
  },
  {
   "cell_type": "markdown",
   "metadata": {},
   "source": [
    "#### Installation\n",
    "\n",
    "Installing `pymer4` is a hassle. \n",
    "\n",
    "The easiset way is to follow the official installation instruction: https://eshinjolly.com/pymer4/installation.html\n",
    "\n",
    "to create an empty environment for `pymer4`\n",
    "\n",
    "```\n",
    "conda create --name pymer4 -c ejolly -c conda-forge -c defaults pymer4\n",
    "conda activate pymer4\n",
    "```\n",
    "Since this empty environment does not have `jupyter` and `geopandas`, you also need to \n",
    "```\n",
    "conda install geopandas\n",
    "conda install jupyter\n",
    "```\n",
    "\n",
    "then launch `jupyter notebook`."
   ]
  },
  {
   "cell_type": "code",
   "execution_count": 1,
   "metadata": {},
   "outputs": [],
   "source": [
    "#pip install pymer4"
   ]
  },
  {
   "cell_type": "markdown",
   "metadata": {},
   "source": [
    "Load packages"
   ]
  },
  {
   "cell_type": "code",
   "execution_count": 2,
   "metadata": {},
   "outputs": [],
   "source": [
    "import warnings\n",
    "\n",
    "import numpy as np\n",
    "import matplotlib.pyplot as plt\n",
    "import geopandas as gpd\n",
    "import pandas as pd"
   ]
  },
  {
   "cell_type": "markdown",
   "metadata": {},
   "source": [
    "We will be using the same voting data to demostrate the MLM. The data is slightly different in the fact that it has an extra column indicating the governer of the state in which a county belongs to.\n",
    "\n",
    "Load voting dataset"
   ]
  },
  {
   "cell_type": "code",
   "execution_count": 3,
   "metadata": {},
   "outputs": [],
   "source": [
    "voting = pd.read_csv('https://raw.github.com/Ziqi-Li/gis5122/master/data/voting_2020_with_gov.csv')\n",
    "\n",
    "#voting[['median_income']] = voting[['median_income']]/10000"
   ]
  },
  {
   "cell_type": "code",
   "execution_count": 4,
   "metadata": {},
   "outputs": [],
   "source": [
    "voting['is_dem_gov']= (voting.party == 'democrat')"
   ]
  },
  {
   "cell_type": "code",
   "execution_count": 5,
   "metadata": {},
   "outputs": [],
   "source": [
    "shp = gpd.read_file(\"https://raw.github.com/Ziqi-Li/gis5122/master/data/us_counties.geojson\")"
   ]
  },
  {
   "cell_type": "code",
   "execution_count": 6,
   "metadata": {},
   "outputs": [],
   "source": [
    "#Merge the shapefile with the voting data by the common county_id\n",
    "shp_voting = shp.merge(voting, on =\"county_id\")\n",
    "\n",
    "shp_voting_df = shp_voting.drop(columns='geometry')\n",
    "\n",
    "#Dissolve the counties to obtain boundary of states, used for mapping\n",
    "state = shp_voting.dissolve(by='STATEFP').geometry.boundary"
   ]
  },
  {
   "cell_type": "markdown",
   "metadata": {},
   "source": [
    "### Fit an MLM model (Varying intercept by state)"
   ]
  },
  {
   "cell_type": "markdown",
   "metadata": {},
   "source": [
    "Let us first look at a pair wise comaprison between\n",
    "\n",
    "- California vs. Massachusetts\n",
    "- California vs. Texas\n",
    "\n",
    "Note that the State's FIPS code is:\n",
    "\n",
    "CA:06;MA:25;TX:48"
   ]
  },
  {
   "cell_type": "code",
   "execution_count": 7,
   "metadata": {},
   "outputs": [],
   "source": [
    "ca_ma = shp_voting[shp_voting['state'].isin([6, 25])]\n",
    "\n",
    "ca_tx = shp_voting[shp_voting['state'].isin([6, 48])]"
   ]
  },
  {
   "cell_type": "markdown",
   "metadata": {},
   "source": [
    "The `Lmer()` takes a formula where follows the format `y ~ X`. 1 indicates adding an intercept, and `(1|state)` allowing the intercept to vary across states."
   ]
  },
  {
   "cell_type": "markdown",
   "metadata": {},
   "source": [
    "California vs. Texas"
   ]
  },
  {
   "cell_type": "code",
   "execution_count": 8,
   "metadata": {},
   "outputs": [
    {
     "name": "stdout",
     "output_type": "stream",
     "text": [
      "Linear mixed model fit by REML [’lmerMod’]\n",
      "Formula: new_pct_dem~1+(1|state)\n",
      "\n",
      "Family: gaussian\t Inference: parametric\n",
      "\n",
      "Number of observations: 312\t Groups: {'state': 2.0}\n",
      "\n",
      "Log-likelihood: -1278.940 \t AIC: 2563.881\n",
      "\n",
      "Random effects:\n",
      "\n",
      "                 Name      Var     Std\n",
      "state     (Intercept)  458.854  21.421\n",
      "Residual               210.864  14.521\n",
      "\n",
      "No random effect correlations specified\n",
      "\n",
      "Fixed effects:\n",
      "\n"
     ]
    },
    {
     "data": {
      "text/html": [
       "<div>\n",
       "<style scoped>\n",
       "    .dataframe tbody tr th:only-of-type {\n",
       "        vertical-align: middle;\n",
       "    }\n",
       "\n",
       "    .dataframe tbody tr th {\n",
       "        vertical-align: top;\n",
       "    }\n",
       "\n",
       "    .dataframe thead th {\n",
       "        text-align: right;\n",
       "    }\n",
       "</style>\n",
       "<table border=\"1\" class=\"dataframe\">\n",
       "  <thead>\n",
       "    <tr style=\"text-align: right;\">\n",
       "      <th></th>\n",
       "      <th>Estimate</th>\n",
       "      <th>2.5_ci</th>\n",
       "      <th>97.5_ci</th>\n",
       "      <th>SE</th>\n",
       "      <th>DF</th>\n",
       "      <th>T-stat</th>\n",
       "      <th>P-val</th>\n",
       "      <th>Sig</th>\n",
       "    </tr>\n",
       "  </thead>\n",
       "  <tbody>\n",
       "    <tr>\n",
       "      <th>(Intercept)</th>\n",
       "      <td>39.981</td>\n",
       "      <td>10.222</td>\n",
       "      <td>69.74</td>\n",
       "      <td>15.184</td>\n",
       "      <td>1.0</td>\n",
       "      <td>2.633</td>\n",
       "      <td>0.231</td>\n",
       "      <td></td>\n",
       "    </tr>\n",
       "  </tbody>\n",
       "</table>\n",
       "</div>"
      ],
      "text/plain": [
       "             Estimate  2.5_ci  97.5_ci      SE   DF  T-stat  P-val Sig\n",
       "(Intercept)    39.981  10.222    69.74  15.184  1.0   2.633  0.231    "
      ]
     },
     "execution_count": 8,
     "metadata": {},
     "output_type": "execute_result"
    }
   ],
   "source": [
    "warnings.filterwarnings('ignore')\n",
    "\n",
    "from pymer4.models import Lmer\n",
    "\n",
    "model = Lmer('new_pct_dem ~ 1 + (1|state)', data=ca_tx)\n",
    "\n",
    "model.fit()"
   ]
  },
  {
   "cell_type": "markdown",
   "metadata": {},
   "source": [
    "From the summary:\n",
    "\n",
    "- There are 312 observations (total number of counties in CA + total number of counties in TX)\n",
    "- There are 2 groups\n",
    "- The model has an AIC of 2563.881\n",
    "- The state-lavel random effect has an estimated variance of 458.854 with a Std of 21.421\n",
    "- The residual has an estimated variance 210.864 with a std of 14.521.\n",
    "- The Variance Partition Coefficient (VPC) = 458.854/(458.854+210.864) = 68.5%. This means 68.5% of the variance in the voting preference can be attributed to the fact that counties belong to two seperate states.\n",
    "- The interpretation to the fixed effects are the same as we do in the linear regression. There are no predictors, only one intercept here, and the intercept estimate is 39.981, and it is not statistically significance (p-value = 0.231 > 0.05).\n",
    "\n"
   ]
  },
  {
   "cell_type": "markdown",
   "metadata": {},
   "source": [
    "California vs. Mass."
   ]
  },
  {
   "cell_type": "code",
   "execution_count": 9,
   "metadata": {},
   "outputs": [
    {
     "name": "stdout",
     "output_type": "stream",
     "text": [
      "Linear mixed model fit by REML [’lmerMod’]\n",
      "Formula: new_pct_dem~1+(1|state)\n",
      "\n",
      "Family: gaussian\t Inference: parametric\n",
      "\n",
      "Number of observations: 72\t Groups: {'state': 2.0}\n",
      "\n",
      "Log-likelihood: -293.063 \t AIC: 592.127\n",
      "\n",
      "Random effects:\n",
      "\n",
      "                 Name      Var     Std\n",
      "state     (Intercept)   77.881   8.825\n",
      "Residual               205.493  14.335\n",
      "\n",
      "No random effect correlations specified\n",
      "\n",
      "Fixed effects:\n",
      "\n"
     ]
    },
    {
     "data": {
      "text/html": [
       "<div>\n",
       "<style scoped>\n",
       "    .dataframe tbody tr th:only-of-type {\n",
       "        vertical-align: middle;\n",
       "    }\n",
       "\n",
       "    .dataframe tbody tr th {\n",
       "        vertical-align: top;\n",
       "    }\n",
       "\n",
       "    .dataframe thead th {\n",
       "        text-align: right;\n",
       "    }\n",
       "</style>\n",
       "<table border=\"1\" class=\"dataframe\">\n",
       "  <thead>\n",
       "    <tr style=\"text-align: right;\">\n",
       "      <th></th>\n",
       "      <th>Estimate</th>\n",
       "      <th>2.5_ci</th>\n",
       "      <th>97.5_ci</th>\n",
       "      <th>SE</th>\n",
       "      <th>DF</th>\n",
       "      <th>T-stat</th>\n",
       "      <th>P-val</th>\n",
       "      <th>Sig</th>\n",
       "    </tr>\n",
       "  </thead>\n",
       "  <tbody>\n",
       "    <tr>\n",
       "      <th>(Intercept)</th>\n",
       "      <td>61.384</td>\n",
       "      <td>48.484</td>\n",
       "      <td>74.284</td>\n",
       "      <td>6.582</td>\n",
       "      <td>0.984</td>\n",
       "      <td>9.327</td>\n",
       "      <td>0.07</td>\n",
       "      <td>.</td>\n",
       "    </tr>\n",
       "  </tbody>\n",
       "</table>\n",
       "</div>"
      ],
      "text/plain": [
       "             Estimate  2.5_ci  97.5_ci     SE     DF  T-stat  P-val Sig\n",
       "(Intercept)    61.384  48.484   74.284  6.582  0.984   9.327   0.07   ."
      ]
     },
     "execution_count": 9,
     "metadata": {},
     "output_type": "execute_result"
    }
   ],
   "source": [
    "warnings.filterwarnings('ignore')\n",
    "\n",
    "model2 = Lmer('new_pct_dem ~ 1 + (1|state)', data=ca_ma)\n",
    "\n",
    "model2.fit()"
   ]
  },
  {
   "cell_type": "markdown",
   "metadata": {},
   "source": [
    "### Varying intercept model for all states"
   ]
  },
  {
   "cell_type": "code",
   "execution_count": 10,
   "metadata": {},
   "outputs": [
    {
     "name": "stdout",
     "output_type": "stream",
     "text": [
      "Linear mixed model fit by REML [’lmerMod’]\n",
      "Formula: new_pct_dem~1+(1|state)\n",
      "\n",
      "Family: gaussian\t Inference: parametric\n",
      "\n",
      "Number of observations: 3102\t Groups: {'state': 47.0}\n",
      "\n",
      "Log-likelihood: -12510.156 \t AIC: 25026.312\n",
      "\n",
      "Random effects:\n",
      "\n",
      "                 Name      Var     Std\n",
      "state     (Intercept)  134.233  11.586\n",
      "Residual               176.567  13.288\n",
      "\n",
      "No random effect correlations specified\n",
      "\n",
      "Fixed effects:\n",
      "\n"
     ]
    },
    {
     "data": {
      "text/html": [
       "<div>\n",
       "<style scoped>\n",
       "    .dataframe tbody tr th:only-of-type {\n",
       "        vertical-align: middle;\n",
       "    }\n",
       "\n",
       "    .dataframe tbody tr th {\n",
       "        vertical-align: top;\n",
       "    }\n",
       "\n",
       "    .dataframe thead th {\n",
       "        text-align: right;\n",
       "    }\n",
       "</style>\n",
       "<table border=\"1\" class=\"dataframe\">\n",
       "  <thead>\n",
       "    <tr style=\"text-align: right;\">\n",
       "      <th></th>\n",
       "      <th>Estimate</th>\n",
       "      <th>2.5_ci</th>\n",
       "      <th>97.5_ci</th>\n",
       "      <th>SE</th>\n",
       "      <th>DF</th>\n",
       "      <th>T-stat</th>\n",
       "      <th>P-val</th>\n",
       "      <th>Sig</th>\n",
       "    </tr>\n",
       "  </thead>\n",
       "  <tbody>\n",
       "    <tr>\n",
       "      <th>(Intercept)</th>\n",
       "      <td>37.507</td>\n",
       "      <td>34.129</td>\n",
       "      <td>40.885</td>\n",
       "      <td>1.724</td>\n",
       "      <td>43.861</td>\n",
       "      <td>21.761</td>\n",
       "      <td>0.0</td>\n",
       "      <td>***</td>\n",
       "    </tr>\n",
       "  </tbody>\n",
       "</table>\n",
       "</div>"
      ],
      "text/plain": [
       "             Estimate  2.5_ci  97.5_ci     SE      DF  T-stat  P-val  Sig\n",
       "(Intercept)    37.507  34.129   40.885  1.724  43.861  21.761    0.0  ***"
      ]
     },
     "execution_count": 10,
     "metadata": {},
     "output_type": "execute_result"
    }
   ],
   "source": [
    "warnings.filterwarnings('ignore')\n",
    "\n",
    "model_all_states_1 = Lmer('new_pct_dem ~ 1 + (1|state)', data=shp_voting_df)\n",
    "\n",
    "model_all_states_1.fit()"
   ]
  },
  {
   "cell_type": "markdown",
   "metadata": {},
   "source": [
    "What is VPC in this case?"
   ]
  },
  {
   "cell_type": "code",
   "execution_count": null,
   "metadata": {},
   "outputs": [],
   "source": []
  },
  {
   "cell_type": "markdown",
   "metadata": {},
   "source": [
    "### Now we add some county-level (individual) variable\n",
    "\n",
    "Here we include `pct_bach` in the model as a fixed effect"
   ]
  },
  {
   "cell_type": "code",
   "execution_count": 11,
   "metadata": {},
   "outputs": [
    {
     "name": "stdout",
     "output_type": "stream",
     "text": [
      "Linear mixed model fit by REML [’lmerMod’]\n",
      "Formula: new_pct_dem~1+pct_bach+(1|state)\n",
      "\n",
      "Family: gaussian\t Inference: parametric\n",
      "\n",
      "Number of observations: 3102\t Groups: {'state': 47.0}\n",
      "\n",
      "Log-likelihood: -12069.178 \t AIC: 24146.356\n",
      "\n",
      "Random effects:\n",
      "\n",
      "                 Name      Var     Std\n",
      "state     (Intercept)   76.666   8.756\n",
      "Residual               133.186  11.541\n",
      "\n",
      "No random effect correlations specified\n",
      "\n",
      "Fixed effects:\n",
      "\n"
     ]
    },
    {
     "data": {
      "text/html": [
       "<div>\n",
       "<style scoped>\n",
       "    .dataframe tbody tr th:only-of-type {\n",
       "        vertical-align: middle;\n",
       "    }\n",
       "\n",
       "    .dataframe tbody tr th {\n",
       "        vertical-align: top;\n",
       "    }\n",
       "\n",
       "    .dataframe thead th {\n",
       "        text-align: right;\n",
       "    }\n",
       "</style>\n",
       "<table border=\"1\" class=\"dataframe\">\n",
       "  <thead>\n",
       "    <tr style=\"text-align: right;\">\n",
       "      <th></th>\n",
       "      <th>Estimate</th>\n",
       "      <th>2.5_ci</th>\n",
       "      <th>97.5_ci</th>\n",
       "      <th>SE</th>\n",
       "      <th>DF</th>\n",
       "      <th>T-stat</th>\n",
       "      <th>P-val</th>\n",
       "      <th>Sig</th>\n",
       "    </tr>\n",
       "  </thead>\n",
       "  <tbody>\n",
       "    <tr>\n",
       "      <th>(Intercept)</th>\n",
       "      <td>18.930</td>\n",
       "      <td>16.125</td>\n",
       "      <td>21.735</td>\n",
       "      <td>1.431</td>\n",
       "      <td>62.434</td>\n",
       "      <td>13.226</td>\n",
       "      <td>0.0</td>\n",
       "      <td>***</td>\n",
       "    </tr>\n",
       "    <tr>\n",
       "      <th>pct_bach</th>\n",
       "      <td>0.776</td>\n",
       "      <td>0.728</td>\n",
       "      <td>0.823</td>\n",
       "      <td>0.024</td>\n",
       "      <td>3097.039</td>\n",
       "      <td>32.086</td>\n",
       "      <td>0.0</td>\n",
       "      <td>***</td>\n",
       "    </tr>\n",
       "  </tbody>\n",
       "</table>\n",
       "</div>"
      ],
      "text/plain": [
       "             Estimate  2.5_ci  97.5_ci     SE        DF  T-stat  P-val  Sig\n",
       "(Intercept)    18.930  16.125   21.735  1.431    62.434  13.226    0.0  ***\n",
       "pct_bach        0.776   0.728    0.823  0.024  3097.039  32.086    0.0  ***"
      ]
     },
     "execution_count": 11,
     "metadata": {},
     "output_type": "execute_result"
    }
   ],
   "source": [
    "warnings.filterwarnings('ignore')\n",
    "\n",
    "model_all_states_2 = Lmer('new_pct_dem ~ 1 + pct_bach + (1|state)', data=shp_voting_df)\n",
    "\n",
    "model_all_states_2.fit()"
   ]
  },
  {
   "cell_type": "markdown",
   "metadata": {},
   "source": [
    "Model AIC decreases as adding this `pct_bach` variable. The interpretation to this variable is: After accounting for the state-level differences, the `pct_bach` has an estimate of 0.776 with a low p-value. Nationally, increasing 1% in `pct_bach` will result in increase `0.776%` people voted for the DEM, while keep other factors constant."
   ]
  },
  {
   "cell_type": "code",
   "execution_count": null,
   "metadata": {},
   "outputs": [],
   "source": []
  },
  {
   "cell_type": "markdown",
   "metadata": {},
   "source": [
    "### Now we add a state-level (group) variable\n",
    "\n",
    "Here we include `is_dem_gov` in the model as a fixed effect"
   ]
  },
  {
   "cell_type": "code",
   "execution_count": 12,
   "metadata": {},
   "outputs": [
    {
     "name": "stdout",
     "output_type": "stream",
     "text": [
      "Linear mixed model fit by REML [’lmerMod’]\n",
      "Formula: new_pct_dem~1+pct_bach+is_dem_gov+(1|state)\n",
      "\n",
      "Family: gaussian\t Inference: parametric\n",
      "\n",
      "Number of observations: 3102\t Groups: {'state': 47.0}\n",
      "\n",
      "Log-likelihood: -12065.543 \t AIC: 24141.087\n",
      "\n",
      "Random effects:\n",
      "\n",
      "                 Name      Var     Std\n",
      "state     (Intercept)   72.165   8.495\n",
      "Residual               133.190  11.541\n",
      "\n",
      "No random effect correlations specified\n",
      "\n",
      "Fixed effects:\n",
      "\n"
     ]
    },
    {
     "data": {
      "text/html": [
       "<div>\n",
       "<style scoped>\n",
       "    .dataframe tbody tr th:only-of-type {\n",
       "        vertical-align: middle;\n",
       "    }\n",
       "\n",
       "    .dataframe tbody tr th {\n",
       "        vertical-align: top;\n",
       "    }\n",
       "\n",
       "    .dataframe thead th {\n",
       "        text-align: right;\n",
       "    }\n",
       "</style>\n",
       "<table border=\"1\" class=\"dataframe\">\n",
       "  <thead>\n",
       "    <tr style=\"text-align: right;\">\n",
       "      <th></th>\n",
       "      <th>Estimate</th>\n",
       "      <th>2.5_ci</th>\n",
       "      <th>97.5_ci</th>\n",
       "      <th>SE</th>\n",
       "      <th>DF</th>\n",
       "      <th>T-stat</th>\n",
       "      <th>P-val</th>\n",
       "      <th>Sig</th>\n",
       "    </tr>\n",
       "  </thead>\n",
       "  <tbody>\n",
       "    <tr>\n",
       "      <th>(Intercept)</th>\n",
       "      <td>16.666</td>\n",
       "      <td>13.087</td>\n",
       "      <td>20.244</td>\n",
       "      <td>1.826</td>\n",
       "      <td>51.528</td>\n",
       "      <td>9.127</td>\n",
       "      <td>0.000</td>\n",
       "      <td>***</td>\n",
       "    </tr>\n",
       "    <tr>\n",
       "      <th>pct_bach</th>\n",
       "      <td>0.775</td>\n",
       "      <td>0.728</td>\n",
       "      <td>0.823</td>\n",
       "      <td>0.024</td>\n",
       "      <td>3096.963</td>\n",
       "      <td>32.081</td>\n",
       "      <td>0.000</td>\n",
       "      <td>***</td>\n",
       "    </tr>\n",
       "    <tr>\n",
       "      <th>is_dem_govTRUE</th>\n",
       "      <td>4.864</td>\n",
       "      <td>-0.138</td>\n",
       "      <td>9.867</td>\n",
       "      <td>2.552</td>\n",
       "      <td>43.097</td>\n",
       "      <td>1.906</td>\n",
       "      <td>0.063</td>\n",
       "      <td>.</td>\n",
       "    </tr>\n",
       "  </tbody>\n",
       "</table>\n",
       "</div>"
      ],
      "text/plain": [
       "                Estimate  2.5_ci  97.5_ci     SE        DF  T-stat  P-val  Sig\n",
       "(Intercept)       16.666  13.087   20.244  1.826    51.528   9.127  0.000  ***\n",
       "pct_bach           0.775   0.728    0.823  0.024  3096.963  32.081  0.000  ***\n",
       "is_dem_govTRUE     4.864  -0.138    9.867  2.552    43.097   1.906  0.063    ."
      ]
     },
     "execution_count": 12,
     "metadata": {},
     "output_type": "execute_result"
    }
   ],
   "source": [
    "warnings.filterwarnings('ignore')\n",
    "\n",
    "model_all_states_3 = Lmer('new_pct_dem ~ 1 + pct_bach + is_dem_gov + (1|state)', data=shp_voting_df)\n",
    "\n",
    "model_all_states_3.fit()"
   ]
  },
  {
   "cell_type": "markdown",
   "metadata": {},
   "source": [
    "After accounting for the state-level differences, the `is_dem_gov` has an estimate of 4.864 with a high p-value (0.063 > 0.05). This is saying that nationally, if a state has a democratic governer will contribute to 4.86% percent more vote into DEM, however, this effect is not statistically significant at 0.05 level given the current data and model."
   ]
  },
  {
   "cell_type": "code",
   "execution_count": null,
   "metadata": {},
   "outputs": [],
   "source": []
  },
  {
   "cell_type": "code",
   "execution_count": null,
   "metadata": {},
   "outputs": [],
   "source": []
  },
  {
   "cell_type": "code",
   "execution_count": null,
   "metadata": {},
   "outputs": [],
   "source": []
  }
 ],
 "metadata": {
  "kernelspec": {
   "display_name": "Python 3 (ipykernel)",
   "language": "python",
   "name": "python3"
  },
  "language_info": {
   "codemirror_mode": {
    "name": "ipython",
    "version": 3
   },
   "file_extension": ".py",
   "mimetype": "text/x-python",
   "name": "python",
   "nbconvert_exporter": "python",
   "pygments_lexer": "ipython3",
   "version": "3.12.9"
  }
 },
 "nbformat": 4,
 "nbformat_minor": 4
}
