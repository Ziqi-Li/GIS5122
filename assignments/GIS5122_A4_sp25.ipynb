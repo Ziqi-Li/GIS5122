{
  "cells": [
    {
      "cell_type": "markdown",
      "metadata": {
        "id": "view-in-github",
        "colab_type": "text"
      },
      "source": [
        "<a href=\"https://colab.research.google.com/github/Ziqi-Li/GIS5122/blob/spring-25/assignments/GIS5122_A4_sp25.ipynb\" target=\"_parent\"><img src=\"https://colab.research.google.com/assets/colab-badge.svg\" alt=\"Open In Colab\"/></a>"
      ]
    },
    {
      "cell_type": "markdown",
      "metadata": {
        "id": "sqjesvPPEket"
      },
      "source": [
        "# Assignment 4\n",
        "**Due date/time:** Mar 21 Fri 23:59pm\n",
        "\n",
        "**Instruction**: Make a copy of this notebook and read through the questions and instructions. Write down code/text to perform the analysis.\n",
        "\n",
        "**Submission**: After you finish working on this notebook, click File->Download->Download .ipynb\n",
        "\n",
        "Please submit a notebook named A4_your_name.ipynb on Canvas."
      ]
    },
    {
      "cell_type": "markdown",
      "metadata": {
        "id": "nlUts3saotCm"
      },
      "source": [
        "## Detailed instructions:\n",
        "\n",
        "In this assignment, we will practice modeling spatial heterogeneity using geographically weighted regression models or multilevel models.\n",
        "\n",
        "**Note**: From this assignment and onward, if you are interested in performing your analysis using your own data (e.g., you may have a dataset from a research project), you are very encouraged to do so.\n",
        "\n",
        "\n",
        "We will be re-using our data and model specifications from Assignment 3. For the same set of dependent variable (y) and independent variables (X):\n",
        "\n",
        "1. Fit a GWR model with optimal bandwidth from bandwidth searching.\n",
        "2. Comment on the general model summary in terms of a) R², b) AICc, and c) spatial autocorrelation in the model residuals.\n",
        "3. Make maps of your spatially varying coefficients with adjustments for multiple testing (make insignificant coefficients grey).\n",
        "4. Describe the spatial pattern you observe in your maps of spatially varying coefficients. Hints: Comment on the general pattern, magnitude, sign of the coefficients.\n",
        "5. Fit EITHER an MGWR model or a multi-level model with varying intercept at the state level. Compare it against the GWR model above regarding a) R², b) AICc. Indicate which model is preferred.\n",
        "\n",
        "**Noet**: As mentioned in class, MGWR is slow to run. Feel free to subset your data just to look at one state if you intend to use MGWR. For multi-level model, be aware of the installation issue, and please follow the guide in the first multi-level notebook to create an empty environment and install from conda.\n",
        "\n",
        "\n",
        "\n",
        "\n"
      ]
    },
    {
      "cell_type": "markdown",
      "metadata": {
        "id": "IEgybfZozCv4"
      },
      "source": [
        "You may need to install these three packages if working on colab:"
      ]
    },
    {
      "cell_type": "code",
      "execution_count": null,
      "metadata": {
        "id": "_PICHtnc03s_"
      },
      "outputs": [],
      "source": [
        "#pip install -q libpysal"
      ]
    },
    {
      "cell_type": "code",
      "execution_count": null,
      "metadata": {
        "id": "cenqjqJRrzeG"
      },
      "outputs": [],
      "source": [
        "#pip install -q splot"
      ]
    },
    {
      "cell_type": "code",
      "execution_count": null,
      "metadata": {
        "id": "XxXfQ8DzZ_8-"
      },
      "outputs": [],
      "source": [
        "#pip install -q mgwr"
      ]
    },
    {
      "cell_type": "markdown",
      "metadata": {
        "id": "Z14JaGaIzMMK"
      },
      "source": [
        "Import all the packages needed to run the analysis"
      ]
    },
    {
      "cell_type": "code",
      "execution_count": null,
      "metadata": {
        "id": "4JFPjpkorrhr"
      },
      "outputs": [],
      "source": [
        "import geopandas as gpd\n",
        "import seaborn as sns\n",
        "import pandas as pd\n",
        "import matplotlib.pyplot as plt\n",
        "import numpy as np\n",
        "import statsmodels.api as sm\n",
        "\n",
        "from libpysal.weights import Queen\n",
        "from esda.moran import Moran\n",
        "#MGWR functions\n",
        "from mgwr.gwr import GWR\n",
        "from mgwr.sel_bw import Sel_BW"
      ]
    },
    {
      "cell_type": "markdown",
      "metadata": {
        "id": "4DoUQPHTy039"
      },
      "source": [
        "Code to read in data and merge them into one final `GeoDataFrame`."
      ]
    },
    {
      "cell_type": "code",
      "execution_count": null,
      "metadata": {
        "id": "BZCRG_jmy0Zx"
      },
      "outputs": [],
      "source": [
        "health_url = \"https://raw.github.com/Ziqi-Li/GIS5122/main/data/cdc_health_county.csv\"\n",
        "health = pd.read_csv(health_url)"
      ]
    },
    {
      "cell_type": "code",
      "execution_count": null,
      "metadata": {
        "id": "v1KGhaV1M4FG"
      },
      "outputs": [],
      "source": [
        "socio_demo_url = \"https://raw.github.com/Ziqi-Li/GIS5122/main/data/acs_2019.csv\"\n",
        "socio_demo = pd.read_csv(socio_demo_url)"
      ]
    },
    {
      "cell_type": "code",
      "execution_count": null,
      "metadata": {
        "id": "flgMh4FA2R7k"
      },
      "outputs": [],
      "source": [
        "counties_url = \"https://raw.github.com/Ziqi-Li/gis5122/master/data/us_counties.geojson\"\n",
        "counties = gpd.read_file(counties_url)"
      ]
    },
    {
      "cell_type": "code",
      "execution_count": null,
      "metadata": {
        "id": "APDrEO1kzfDy"
      },
      "outputs": [],
      "source": [
        "income_health = pd.merge(socio_demo, health, left_on = \"county_id\", right_on = \"LocationID\")"
      ]
    },
    {
      "cell_type": "code",
      "execution_count": null,
      "metadata": {
        "id": "v6Rn9zWTzfG8"
      },
      "outputs": [],
      "source": [
        "gdf_income_health = pd.merge(counties, income_health, on = \"county_id\")"
      ]
    },
    {
      "cell_type": "markdown",
      "metadata": {
        "id": "IOSNbM0q2vi9"
      },
      "source": [
        "Your code will start here, and your analysis will be based on this GeoDataFrame `gdf_income_health`."
      ]
    },
    {
      "cell_type": "code",
      "execution_count": null,
      "metadata": {
        "id": "tbgq4cLmzfOV"
      },
      "outputs": [],
      "source": []
    },
    {
      "cell_type": "code",
      "execution_count": null,
      "metadata": {
        "id": "Y5vxJcVpzfSJ"
      },
      "outputs": [],
      "source": []
    },
    {
      "cell_type": "code",
      "execution_count": null,
      "metadata": {
        "id": "1TpC9QXnM4HY"
      },
      "outputs": [],
      "source": []
    }
  ],
  "metadata": {
    "colab": {
      "provenance": [],
      "include_colab_link": true
    },
    "kernelspec": {
      "display_name": "Python 3 (ipykernel)",
      "language": "python",
      "name": "python3"
    },
    "language_info": {
      "codemirror_mode": {
        "name": "ipython",
        "version": 3
      },
      "file_extension": ".py",
      "mimetype": "text/x-python",
      "name": "python",
      "nbconvert_exporter": "python",
      "pygments_lexer": "ipython3",
      "version": "3.11.8"
    }
  },
  "nbformat": 4,
  "nbformat_minor": 0
}