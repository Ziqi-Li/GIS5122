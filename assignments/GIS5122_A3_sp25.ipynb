{
  "cells": [
    {
      "cell_type": "markdown",
      "metadata": {
        "id": "view-in-github",
        "colab_type": "text"
      },
      "source": [
        "<a href=\"https://colab.research.google.com/github/Ziqi-Li/GIS5122/blob/spring-25/assignments/GIS5122_A3_sp25.ipynb\" target=\"_parent\"><img src=\"https://colab.research.google.com/assets/colab-badge.svg\" alt=\"Open In Colab\"/></a>"
      ]
    },
    {
      "cell_type": "markdown",
      "metadata": {
        "id": "sqjesvPPEket"
      },
      "source": [
        "# Assignment 3\n",
        "**Due date/time:** Feb 28th Fri 23:59pm\n",
        "\n",
        "**Instruction**: Make a copy of this notebook and read through the questions and instructions. Write down code/text to perform the analysis.\n",
        "\n",
        "**Submission**: After you finish working on this notebook, click File->Download->Download .ipynb\n",
        "\n",
        "Please submit a notebook named A3_your_name.ipynb on Canvas."
      ]
    },
    {
      "cell_type": "markdown",
      "metadata": {
        "id": "nlUts3saotCm"
      },
      "source": [
        "## Detailed instructions:\n",
        "\n",
        "In this assignment, we will practice on model selection and spatial autocorrelation.\n",
        "\n",
        "**Note**: Similar note, if you are interested in performing your analysis using your own data (e.g., you may have a dataset from a research project), you are very encouraged to do so.\n",
        "\n",
        "We will be re-using our county-level health data `health` from last assignment that was originally obtained from [CDC](https://www.cdc.gov/places/index.html) to investigate [Social Determinants of Health](https://www.cdc.gov/about/sdoh/index.html). You can find the explanations to the columns in the data [here](https://raw.githubusercontent.com/Ziqi-Li/GIS5122/main/data/cdc_county_health.txt).\n",
        "\n",
        "You are also given a county-level socio-demographic dataset `socio_demo` obtaiend from the American Community Survey (2015-2019) dataset. Variable name explanations can be seen [here](https://github.com/Ziqi-Li/GIS5122/blob/main/data/acs_2019_variables.txt).\n",
        "\n",
        "The objective is to identify socio-demographic factors that will explain health outcome inequality in the US, by estimating a regression model.\n",
        "\n",
        "You are also given a county-level boundary file `counties` for making necessary maps.\n",
        "\n",
        "Below are specific tasks you need to perform and their credits (total 100%):\n",
        "1. Fir an OLS model (from your last assignment)\n",
        "2. Fit a spatial lag model and interpret the coefficients (**25%**)\n",
        "3. Fit a spatial error model and interpret the coefficients (**25%**)\n",
        "4. Cross compare all three methods (slm, sem, ols) and indicate and explain which model is preferred over the other two based on the evidence from 1) AIC; 2) L-M test and 3) residual spatial autocorrelation. (**50%**)\n",
        "\n"
      ]
    },
    {
      "cell_type": "markdown",
      "metadata": {
        "id": "IEgybfZozCv4"
      },
      "source": [
        "You may need to install these two packages, remove the \"#\" if you need to install:"
      ]
    },
    {
      "cell_type": "code",
      "execution_count": null,
      "metadata": {
        "id": "_PICHtnc03s_"
      },
      "outputs": [],
      "source": [
        "#pip install -q libpysal"
      ]
    },
    {
      "cell_type": "code",
      "execution_count": null,
      "metadata": {
        "id": "cenqjqJRrzeG"
      },
      "outputs": [],
      "source": [
        "#pip install -q splot"
      ]
    },
    {
      "cell_type": "markdown",
      "metadata": {
        "id": "Z14JaGaIzMMK"
      },
      "source": [
        "Import all the packages needed to run the analysis"
      ]
    },
    {
      "cell_type": "code",
      "execution_count": null,
      "metadata": {
        "id": "4JFPjpkorrhr"
      },
      "outputs": [],
      "source": [
        "import geopandas as gpd\n",
        "import pandas as pd\n",
        "import matplotlib.pyplot as plt\n",
        "import numpy as np\n",
        "\n",
        "from libpysal.weights import Queen\n",
        "from splot.esda import plot_moran\n",
        "from esda.moran import Moran\n",
        "import spreg"
      ]
    },
    {
      "cell_type": "markdown",
      "metadata": {
        "id": "4DoUQPHTy039"
      },
      "source": [
        "Code to read in data and merge them into one final `GeoDataFrame`."
      ]
    },
    {
      "cell_type": "code",
      "execution_count": null,
      "metadata": {
        "id": "BZCRG_jmy0Zx"
      },
      "outputs": [],
      "source": [
        "health_url = \"https://raw.github.com/Ziqi-Li/GIS5122/main/data/cdc_health_county.csv\"\n",
        "health = pd.read_csv(health_url)"
      ]
    },
    {
      "cell_type": "code",
      "execution_count": null,
      "metadata": {
        "id": "v1KGhaV1M4FG"
      },
      "outputs": [],
      "source": [
        "socio_demo_url = \"https://raw.github.com/Ziqi-Li/GIS5122/main/data/acs_2019.csv\"\n",
        "socio_demo = pd.read_csv(socio_demo_url)"
      ]
    },
    {
      "cell_type": "code",
      "execution_count": null,
      "metadata": {
        "id": "flgMh4FA2R7k"
      },
      "outputs": [],
      "source": [
        "counties_url = \"https://raw.github.com/Ziqi-Li/gis5122/master/data/us_counties.geojson\"\n",
        "counties = gpd.read_file(counties_url)"
      ]
    },
    {
      "cell_type": "code",
      "execution_count": null,
      "metadata": {
        "id": "APDrEO1kzfDy"
      },
      "outputs": [],
      "source": [
        "income_health = pd.merge(socio_demo, health, left_on = \"county_id\", right_on = \"LocationID\")"
      ]
    },
    {
      "cell_type": "code",
      "execution_count": null,
      "metadata": {
        "id": "v6Rn9zWTzfG8"
      },
      "outputs": [],
      "source": [
        "gdf_income_health = pd.merge(counties, income_health, on = \"county_id\")"
      ]
    },
    {
      "cell_type": "markdown",
      "metadata": {
        "id": "IOSNbM0q2vi9"
      },
      "source": [
        "Your code will start here, and your analysis will be based on this GeoDataFrame `gdf_income_health`."
      ]
    },
    {
      "cell_type": "code",
      "execution_count": null,
      "metadata": {
        "id": "tbgq4cLmzfOV"
      },
      "outputs": [],
      "source": []
    },
    {
      "cell_type": "code",
      "execution_count": null,
      "metadata": {
        "id": "Y5vxJcVpzfSJ"
      },
      "outputs": [],
      "source": []
    },
    {
      "cell_type": "code",
      "execution_count": null,
      "metadata": {
        "id": "1TpC9QXnM4HY"
      },
      "outputs": [],
      "source": []
    }
  ],
  "metadata": {
    "colab": {
      "provenance": [],
      "include_colab_link": true
    },
    "kernelspec": {
      "display_name": "Python 3 (ipykernel)",
      "language": "python",
      "name": "python3"
    },
    "language_info": {
      "codemirror_mode": {
        "name": "ipython",
        "version": 3
      },
      "file_extension": ".py",
      "mimetype": "text/x-python",
      "name": "python",
      "nbconvert_exporter": "python",
      "pygments_lexer": "ipython3",
      "version": "3.11.9"
    }
  },
  "nbformat": 4,
  "nbformat_minor": 0
}